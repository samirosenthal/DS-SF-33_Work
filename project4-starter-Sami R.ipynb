{
 "cells": [
  {
   "cell_type": "markdown",
   "metadata": {},
   "source": [
    "# Project 4\n",
    "\n",
    "In this project, you will summarize and present your analysis from Projects 1-3."
   ]
  },
  {
   "cell_type": "markdown",
   "metadata": {},
   "source": [
    "### Intro: Write a problem Statement/ Specific Aim for this project"
   ]
  },
  {
   "cell_type": "markdown",
   "metadata": {},
   "source": [
    "Answer: Determine if a student will be admitted to UCLA Graduate school, using academic data (GRE Score, GPA, and Prestige of Alma Mater) based on UCLA admissions data from an unknown time frame."
   ]
  },
  {
   "cell_type": "markdown",
   "metadata": {},
   "source": [
    "### Dataset:  Write up a description of your data and any cleaning that was completed"
   ]
  },
  {
   "cell_type": "markdown",
   "metadata": {},
   "source": [
    "Answer: There were 400 applicants in our dataset, including 3 that had missing data. For my analysis, I left out these students and worked with a final dataset of 397 applicants. \n",
    "\n",
    "There are three predictors/covariates in the dataset. The first was \"GRE\" (Graduate Record Examination) Score, which is a continuous variable. In this dataset, GRE ranged from 220 to 800. The second is \"GPA\" (Grade Point Average), which is also a continuous variable, and this ranged from 2.26 to 4.0. The third is \"prestige,\" which indicates the prestige of the applicant's alma mater, ranked from 1-4 (1 being the most prestigious). Because this variable can only take the values of 1-4, it is considered a categorical variable. \n",
    "\n",
    "The last variable is the outcome of the model, which is \"admit.\" This is a categorical variable that can take the alue of 0 if the applicant was not admitted, or 1 if the applicant was admitted. "
   ]
  },
  {
   "cell_type": "markdown",
   "metadata": {
    "collapsed": true
   },
   "source": [
    "### Demo: Provide a table that explains the data by admission status"
   ]
  },
  {
   "cell_type": "markdown",
   "metadata": {},
   "source": [
    "Variable | Description | Type of Variable\n",
    "---|---|---\n",
    "admit | 0 = Not admitted to UCLA, 1 = Admitted to UCLA | Categorical\n",
    "gre | GRE Score (Graduate Record Examination) | Continuous\n",
    "gpa | GPA (Grade Point Averate) | Continuous\n",
    "prestige | Prestige of an applicant alta mater, with 1 as highest tier (most prestigeous) and 4 as the lowest tier (least prestigeous). (Must be an integer: 1, 2, 3, or 4)| Categorical"
   ]
  },
  {
   "cell_type": "markdown",
   "metadata": {},
   "source": [
    "Mean (STD) or counts by admission status for each variable \n",
    "\n",
    "| Not Admitted | Admitted\n",
    "---| ---|---\n",
    "GPA | 3.35(0.38)  | 3.49(0.37)\n",
    "GRE |573.6(116.1)  | 618.6(109.3)\n",
    "Prestige 1 | 28 (7%) | 33 (8%)\n",
    "Prestige 2 | 95 (24%) | 53 (13%)\n",
    "Prestige 3 |93 (23%) | 28 (7%)\n",
    "Prestige 4 |55 (14%) | 12 (3%)\n"
   ]
  },
  {
   "cell_type": "markdown",
   "metadata": {},
   "source": [
    "### Methods: Write up the methods used in your analysis"
   ]
  },
  {
   "cell_type": "markdown",
   "metadata": {},
   "source": [
    "Answer: I completed two logistic regression models for this analysis, using Statsmodels and Sklearn. The outcome of this was calculating the probability that a student would be admitted to UCLA. "
   ]
  },
  {
   "cell_type": "markdown",
   "metadata": {},
   "source": [
    "### Results: Write up your results"
   ]
  },
  {
   "cell_type": "markdown",
   "metadata": {},
   "source": [
    "Answer: From my Statsmodels analysis, students who attend an undergraduate school with prestige = 2 are 51% less likely to be admitted than a student with an undergraduate school of prestige = 1. Using Sklearn, this value came out to 53%. The rest of the odds ratios are shown in the table below."
   ]
  },
  {
   "cell_type": "markdown",
   "metadata": {},
   "source": [
    "### Visuals: Provide a table or visualization of these results"
   ]
  },
  {
   "cell_type": "markdown",
   "metadata": {},
   "source": [
    "Odds Ratios Analysis\n",
    "\n",
    "| StatsModels | Sklearn |\n",
    "---|---\n",
    "GRE | 1.00 | 1.00\n",
    "GPA | 2.18 | 1.96\n",
    "prestige_2  |  0.51 |0.53\n",
    "prestige_3 |   0.26 |0.29\n",
    "prestige_4 |   0.21 |0.21\n",
    "\n"
   ]
  },
  {
   "cell_type": "markdown",
   "metadata": {},
   "source": [
    "We also predicted the probability of admission for a student that with a GRE of 800 and a GPA of 4 who came from a tier-1, tier-2, tier-3, or tier-4 undergraduate school. The results of these predictions are shown below. \n",
    "\n",
    "| StatsModels | Sklearn |\n",
    "---|---\n",
    "Tier 1 | 0.734 | 0.712\n",
    "Tier 2 | 0.583 | 0.568\n",
    "Tier 3 | 0.420 | 0.414\n",
    "Tier 4 | 0.369 | 0.340\n"
   ]
  },
  {
   "cell_type": "markdown",
   "metadata": {},
   "source": [
    "### Discussion: Write up your discussion and future steps"
   ]
  },
  {
   "cell_type": "markdown",
   "metadata": {},
   "source": [
    "Answer: My model showed that applicants have a higher probability of being admitted if they come from a more prestigious school. Future steps could include gathering more data to put into the model, for example demographic data or number of years of work experience. "
   ]
  },
  {
   "cell_type": "code",
   "execution_count": null,
   "metadata": {
    "collapsed": true
   },
   "outputs": [],
   "source": []
  }
 ],
 "metadata": {
  "kernelspec": {
   "display_name": "Python 2",
   "language": "python",
   "name": "python2"
  },
  "language_info": {
   "codemirror_mode": {
    "name": "ipython",
    "version": 2
   },
   "file_extension": ".py",
   "mimetype": "text/x-python",
   "name": "python",
   "nbconvert_exporter": "python",
   "pygments_lexer": "ipython2",
   "version": "2.7.13"
  }
 },
 "nbformat": 4,
 "nbformat_minor": 0
}
